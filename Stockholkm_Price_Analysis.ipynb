{
  "nbformat": 4,
  "nbformat_minor": 0,
  "metadata": {
    "colab": {
      "provenance": []
    },
    "kernelspec": {
      "name": "python3",
      "display_name": "Python 3"
    },
    "language_info": {
      "name": "python"
    }
  },
  "cells": [
    {
      "cell_type": "code",
      "execution_count": 2,
      "metadata": {
        "id": "lmCi6whtPHGn"
      },
      "outputs": [],
      "source": [
        "# Import libraries\n",
        "import pandas as pd\n",
        "import numpy as np\n",
        "import matplotlib.pyplot as plt\n",
        "import seaborn as sns\n"
      ]
    },
    {
      "cell_type": "code",
      "source": [
        "from sklearn.model_selection import train_test_split, cross_val_score, GridSearchCV\n",
        "from sklearn.linear_model import LinearRegression\n",
        "from sklearn.metrics import mean_squared_error, r2_score"
      ],
      "metadata": {
        "id": "cVIkaxl0PkVZ"
      },
      "execution_count": 3,
      "outputs": []
    },
    {
      "cell_type": "code",
      "source": [
        "# Load data set\n",
        "df = pd.read_csv(\"housing_data.csv\")"
      ],
      "metadata": {
        "id": "I0me43XbTZRT"
      },
      "execution_count": 4,
      "outputs": []
    },
    {
      "cell_type": "code",
      "source": [
        "# Check data set\n",
        "print(df.head())\n",
        "\n"
      ],
      "metadata": {
        "colab": {
          "base_uri": "https://localhost:8080/"
        },
        "id": "ftp2J8N_TZTw",
        "outputId": "9d57c8c3-6852-4158-96fc-04b00ff08bdf"
      },
      "execution_count": 5,
      "outputs": [
        {
          "output_type": "stream",
          "name": "stdout",
          "text": [
            "   Unnamed: 0             address  asked_price  \\\n",
            "0         0.0    Markviksvägen 15    6475000.0   \n",
            "1         1.0  Mälarhöjdsvägen 38    9950000.0   \n",
            "2         2.0     Häradsvägen 202    5795000.0   \n",
            "3         3.0     Hemmansvägen 18   11950000.0   \n",
            "4         4.0     Alholmsbacken 8    7950000.0   \n",
            "\n",
            "                                coordinate  final_price  \\\n",
            "0                  [59.371685, 17.8250389]      6950000   \n",
            "1                 [59.3008766, 17.9478054]     11300000   \n",
            "2  [59.27202322587505, 17.954076342308372]      6200000   \n",
            "3   [59.28390406370304, 18.07625832074728]     12700000   \n",
            "4                   [59.28134, 17.9009438]      8100000   \n",
            "\n",
            "   pourcentage_difference  land_area   area  \\\n",
            "0                     7.0      635.0  117.0   \n",
            "1                    14.0      882.0  195.0   \n",
            "2                     7.0     1224.0   90.0   \n",
            "3                     6.0      542.0  110.0   \n",
            "4                     2.0      690.0  157.0   \n",
            "\n",
            "                                       commune  price_per_area  rooms  \\\n",
            "0  Hässelby Södra Villastad, Stockholms kommun         59402.0    5.0   \n",
            "1   Mälarhöjden - Hägersten, Stockholms kommun         57949.0    5.0   \n",
            "2                   Segeltorp, Huddinge kommun         68889.0    6.0   \n",
            "3             Gamla Enskede, Stockholms kommun        115455.0    5.0   \n",
            "4          Skärholmshöjden., Stockholms kommun         51592.0    6.0   \n",
            "\n",
            "         sale_date  supplemental_area  \n",
            "0  Såld 2022-06-17               44.0  \n",
            "1  Såld 2022-06-17               22.0  \n",
            "2  Såld 2022-06-17               90.0  \n",
            "3  Såld 2022-06-17               48.0  \n",
            "4  Såld 2022-06-17                0.0  \n"
          ]
        }
      ]
    },
    {
      "cell_type": "code",
      "source": [
        "print(df.describe())"
      ],
      "metadata": {
        "colab": {
          "base_uri": "https://localhost:8080/"
        },
        "id": "HM1qOnv2fZzZ",
        "outputId": "dd473cc8-7e2c-479d-ee5a-0608bf2fca91"
      },
      "execution_count": 6,
      "outputs": [
        {
          "output_type": "stream",
          "name": "stdout",
          "text": [
            "       Unnamed: 0   asked_price   final_price  pourcentage_difference  \\\n",
            "count  500.000000  5.000000e+02  5.000000e+02              500.000000   \n",
            "mean    24.950000  9.375150e+06  1.004715e+07                8.914000   \n",
            "std     14.448183  3.911988e+06  4.014927e+06                8.797579   \n",
            "min      0.000000  1.475000e+06  1.490000e+06                0.000000   \n",
            "25%     12.475000  6.995000e+06  7.450000e+06                1.000000   \n",
            "50%     24.950000  8.475000e+06  8.852500e+06                7.000000   \n",
            "75%     37.425000  1.012375e+07  1.130000e+07               14.000000   \n",
            "max     49.900000  2.990000e+07  3.110000e+07               48.000000   \n",
            "\n",
            "          land_area         area  price_per_area       rooms  \\\n",
            "count    495.000000   499.000000      499.000000  490.000000   \n",
            "mean    1012.278788   142.759519    79120.142285    6.165306   \n",
            "std     1508.117107   116.952734    29949.142598    2.292341   \n",
            "min       93.000000    21.000000    20617.000000    2.000000   \n",
            "25%      557.500000   102.500000    55239.000000    5.000000   \n",
            "50%      729.000000   134.000000    71635.000000    6.000000   \n",
            "75%      977.000000   162.000000    99537.000000    7.000000   \n",
            "max    13811.000000  1795.000000   187500.000000   45.000000   \n",
            "\n",
            "       supplemental_area  \n",
            "count         500.000000  \n",
            "mean           55.460000  \n",
            "std            54.933193  \n",
            "min             0.000000  \n",
            "25%            22.000000  \n",
            "50%            54.000000  \n",
            "75%            79.000000  \n",
            "max           845.000000  \n"
          ]
        }
      ]
    },
    {
      "cell_type": "code",
      "source": [
        "print(df.info())"
      ],
      "metadata": {
        "colab": {
          "base_uri": "https://localhost:8080/"
        },
        "id": "DYttyz1yfXmf",
        "outputId": "9e5470b3-0c88-4676-b636-2f1064dc2db7"
      },
      "execution_count": 7,
      "outputs": [
        {
          "output_type": "stream",
          "name": "stdout",
          "text": [
            "<class 'pandas.core.frame.DataFrame'>\n",
            "RangeIndex: 500 entries, 0 to 499\n",
            "Data columns (total 13 columns):\n",
            " #   Column                  Non-Null Count  Dtype  \n",
            "---  ------                  --------------  -----  \n",
            " 0   Unnamed: 0              500 non-null    float64\n",
            " 1   address                 500 non-null    object \n",
            " 2   asked_price             500 non-null    float64\n",
            " 3   coordinate              500 non-null    object \n",
            " 4   final_price             500 non-null    int64  \n",
            " 5   pourcentage_difference  500 non-null    float64\n",
            " 6   land_area               495 non-null    float64\n",
            " 7   area                    499 non-null    float64\n",
            " 8   commune                 500 non-null    object \n",
            " 9   price_per_area          499 non-null    float64\n",
            " 10  rooms                   490 non-null    float64\n",
            " 11  sale_date               500 non-null    object \n",
            " 12  supplemental_area       500 non-null    float64\n",
            "dtypes: float64(8), int64(1), object(4)\n",
            "memory usage: 50.9+ KB\n",
            "None\n"
          ]
        }
      ]
    },
    {
      "cell_type": "code",
      "source": [
        "# Data cleaning\n",
        "# Drop any missing values\n",
        "df.dropna(inplace=True)"
      ],
      "metadata": {
        "id": "gsSKUyFBfYVs"
      },
      "execution_count": 8,
      "outputs": []
    },
    {
      "cell_type": "code",
      "source": [
        "# Encode categorical variables into dummy variables\n",
        "df = pd.get_dummies(df, drop_first=True)"
      ],
      "metadata": {
        "id": "EETO3vpWffYu"
      },
      "execution_count": 9,
      "outputs": []
    },
    {
      "cell_type": "code",
      "source": [
        "# Data analysis\n",
        "# Plot the correlation matrix\n",
        "plt.figure(figsize=(12, 10))\n",
        "sns.heatmap(df.corr(), annot=True, cmap=\"coolwarm\")\n",
        "plt.show()\n"
      ],
      "metadata": {
        "id": "RkKJcFYlffeJ"
      },
      "execution_count": null,
      "outputs": []
    },
    {
      "cell_type": "code",
      "source": [
        "# Plot the distribution of the target variable (final_price)\n",
        "plt.figure(figsize=(8, 6))\n",
        "sns.histplot(df[\"final_price\"], kde=True)\n",
        "plt.show()"
      ],
      "metadata": {
        "id": "QwRT0KnTjLyx"
      },
      "execution_count": null,
      "outputs": []
    },
    {
      "cell_type": "code",
      "source": [
        "# Plot the relationship between the asked_price and the final_price\n",
        "plt.figure(figsize=(8, 6))\n",
        "sns.scatterplot(x=\"asked_price\", y=\"final_price\", data=df)\n",
        "plt.show()"
      ],
      "metadata": {
        "id": "EEZtYhDWffga"
      },
      "execution_count": null,
      "outputs": []
    },
    {
      "cell_type": "code",
      "source": [
        "# Build predictive model\n",
        "# Define features and target variable\n",
        "X = df.drop(\"final_price\", axis=1)\n",
        "y = df[\"final_price\"]"
      ],
      "metadata": {
        "id": "PGQh7WdamCn8"
      },
      "execution_count": null,
      "outputs": []
    },
    {
      "cell_type": "code",
      "source": [
        "\n",
        "# Split data into training and validation sets (80/20 ratio)\n",
        "X_train, X_val, y_train, y_val = train_test_split(X, y, test_size=0.2, random_state=42)"
      ],
      "metadata": {
        "id": "ujE4H-s5mFH5"
      },
      "execution_count": null,
      "outputs": []
    },
    {
      "cell_type": "code",
      "source": [
        "# Choose linear regression as the machine learning algorithm\n",
        "lr = LinearRegression()\n"
      ],
      "metadata": {
        "id": "t5ssf5dhmFKM"
      },
      "execution_count": null,
      "outputs": []
    },
    {
      "cell_type": "code",
      "source": [
        "# Train the model on the training set\n",
        "lr.fit(X_train, y_train)"
      ],
      "metadata": {
        "id": "RI-KjhSzmFNj"
      },
      "execution_count": null,
      "outputs": []
    },
    {
      "cell_type": "code",
      "source": [
        "# Validation\n",
        "# Predict on the validation set\n",
        "y_pred = lr.predict(X_val)\n"
      ],
      "metadata": {
        "id": "9bYOK3mTmFTY"
      },
      "execution_count": null,
      "outputs": []
    },
    {
      "cell_type": "code",
      "source": [
        "# Evaluate the model performance using mean squared error and R-squared score\n",
        "mse = mean_squared_error(y_val, y_pred)\n",
        "r2 = r2_score(y_val, y_pred)\n",
        "print(f\"Mean squared error: {mse:.2f}\")\n",
        "print(f\"R-squared score: {r2:.2f}\")"
      ],
      "metadata": {
        "id": "KZslBTwtmFVf"
      },
      "execution_count": null,
      "outputs": []
    },
    {
      "cell_type": "code",
      "source": [
        "# Compare the model with a baseline model (mean value)\n",
        "y_mean = np.mean(y_val)\n",
        "y_base = np.full(len(y_val), y_mean)\n",
        "mse_base = mean_squared_error(y_val, y_base)\n",
        "r2_base = r2_score(y_val, y_base)\n",
        "print(f\"Mean squared error of baseline model: {mse_base:.2f}\")\n",
        "print(f\"R-squared score of baseline model: {r2_base:.2f}\")"
      ],
      "metadata": {
        "id": "nFWKqn4bmFX9"
      },
      "execution_count": null,
      "outputs": []
    },
    {
      "cell_type": "code",
      "source": [
        "# Plot the actual vs predicted values\n",
        "plt.figure(figsize=(8, 6))\n",
        "sns.scatterplot(x=y_val, y=y_pred)\n",
        "plt.plot([y_min, y_max], [y_min, y_max], color=\"red\", linestyle=\"--\")\n",
        "plt.xlabel(\"Actual final price\")\n",
        "plt.ylabel(\"Predicted final price\")\n",
        "plt.show()"
      ],
      "metadata": {
        "id": "hBagJC5QmFaT"
      },
      "execution_count": null,
      "outputs": []
    },
    {
      "cell_type": "code",
      "source": [],
      "metadata": {
        "id": "cgcud8EBmFcZ"
      },
      "execution_count": null,
      "outputs": []
    },
    {
      "cell_type": "code",
      "source": [],
      "metadata": {
        "id": "FfvJRqqnffiv"
      },
      "execution_count": null,
      "outputs": []
    },
    {
      "cell_type": "code",
      "source": [],
      "metadata": {
        "id": "0K6bs-miffk_"
      },
      "execution_count": null,
      "outputs": []
    },
    {
      "cell_type": "code",
      "source": [],
      "metadata": {
        "id": "8zCMFdhkffnb"
      },
      "execution_count": null,
      "outputs": []
    }
  ]
}